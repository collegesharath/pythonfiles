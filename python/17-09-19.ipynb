{
 "cells": [
  {
   "cell_type": "markdown",
   "metadata": {},
   "source": [
    "## find highest value in given set"
   ]
  },
  {
   "cell_type": "code",
   "execution_count": 7,
   "metadata": {},
   "outputs": [
    {
     "name": "stdout",
     "output_type": "stream",
     "text": [
      "99\n"
     ]
    }
   ],
   "source": [
    "s=([1,23,45,68,99])\n",
    "print(max(s))"
   ]
  },
  {
   "cell_type": "code",
   "execution_count": 15,
   "metadata": {},
   "outputs": [
    {
     "name": "stdout",
     "output_type": "stream",
     "text": [
      "99\n"
     ]
    }
   ],
   "source": [
    "s={1,23,45,68,99,4,2}\n",
    "l=list(s)\n",
    "l.sort()\n",
    "print(l[-1])"
   ]
  },
  {
   "cell_type": "markdown",
   "metadata": {},
   "source": [
    "## elevator problem"
   ]
  },
  {
   "cell_type": "code",
   "execution_count": 2,
   "metadata": {},
   "outputs": [
    {
     "name": "stdout",
     "output_type": "stream",
     "text": [
      "2\n",
      "3\n",
      "A\n",
      "4\n",
      "A\n"
     ]
    }
   ],
   "source": [
    "t=int(input())\n",
    "a=0\n",
    "b=7\n",
    "for i in range(t):\n",
    "    n=int(input())\n",
    "    d1=abs(a-n)\n",
    "    d2=abs(b-n)\n",
    "    if d1<=d2:\n",
    "        print(\"A\")\n",
    "        a=n\n",
    "    else:\n",
    "        print(\"B\")\n",
    "\n",
    "\n",
    "        b=n"
   ]
  },
  {
   "cell_type": "markdown",
   "metadata": {},
   "source": [
    "## string1 is equal to string2"
   ]
  },
  {
   "cell_type": "code",
   "execution_count": 28,
   "metadata": {},
   "outputs": [
    {
     "name": "stdout",
     "output_type": "stream",
     "text": [
      "2\n",
      "enter a namesumit mitsu\n",
      "yes\n",
      "enter a nameabhi bhhi\n",
      "no\n"
     ]
    }
   ],
   "source": [
    "t=int(input())\n",
    "for i in range(0,t):\n",
    "    n=input(\"enter a name\").split()\n",
    "    n1=sorted(n[0])\n",
    "    n2=sorted(n[1])\n",
    "    if n1==n2:\n",
    "        print(\"yes\")\n",
    "    else:\n",
    "        print(\"no\")\n",
    "    "
   ]
  },
  {
   "cell_type": "code",
   "execution_count": null,
   "metadata": {},
   "outputs": [],
   "source": []
  }
 ],
 "metadata": {
  "kernelspec": {
   "display_name": "Python 3",
   "language": "python",
   "name": "python3"
  },
  "language_info": {
   "codemirror_mode": {
    "name": "ipython",
    "version": 3
   },
   "file_extension": ".py",
   "mimetype": "text/x-python",
   "name": "python",
   "nbconvert_exporter": "python",
   "pygments_lexer": "ipython3",
   "version": "3.7.3"
  }
 },
 "nbformat": 4,
 "nbformat_minor": 2
}
