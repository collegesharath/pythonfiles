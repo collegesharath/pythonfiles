{
 "cells": [
  {
   "cell_type": "markdown",
   "metadata": {},
   "source": [
    "## print all numbers divisible by 6 not a factor of 100"
   ]
  },
  {
   "cell_type": "code",
   "execution_count": 19,
   "metadata": {},
   "outputs": [
    {
     "name": "stdout",
     "output_type": "stream",
     "text": [
      "enter a value1\n",
      "enter a value60\n",
      "6\n",
      "12\n",
      "18\n",
      "24\n",
      "30\n",
      "36\n",
      "42\n",
      "48\n",
      "54\n",
      "60\n"
     ]
    }
   ],
   "source": [
    "a=int(input(\"enter a value\"))\n",
    "b=int(input(\"enter a value\"))\n",
    "def div(a,b):\n",
    "    for i in range(a,b+1):\n",
    "        \n",
    "        if i%6==0 and i%100!=0:\n",
    "            print(i)\n",
    "div(a,b)\n",
    "  \n",
    "            "
   ]
  },
  {
   "cell_type": "markdown",
   "metadata": {},
   "source": [
    "## average of cubes of even numbers"
   ]
  },
  {
   "cell_type": "code",
   "execution_count": 59,
   "metadata": {},
   "outputs": [
    {
     "name": "stdout",
     "output_type": "stream",
     "text": [
      "enter a value1\n",
      "enter a value10\n",
      "8\n",
      "64\n",
      "216\n",
      "512\n",
      "1000\n",
      "360\n"
     ]
    }
   ],
   "source": [
    "a=int(input(\"enter a value\"))\n",
    "b=int(input(\"enter a value\"))\n",
    "def cub(a,b):\n",
    "    c=0\n",
    "    d=0\n",
    "    for i in range(a,b+1):\n",
    "        if i%2==0:\n",
    "            print(i**3)\n",
    "            c=c+(i**3)\n",
    "            d+=1\n",
    "            \n",
    "            \n",
    "            \n",
    "    print(c//d)\n",
    "cub(a,b)            \n",
    "            "
   ]
  },
  {
   "cell_type": "markdown",
   "metadata": {},
   "source": [
    "## list of factors of a given number"
   ]
  },
  {
   "cell_type": "code",
   "execution_count": 50,
   "metadata": {},
   "outputs": [
    {
     "name": "stdout",
     "output_type": "stream",
     "text": [
      "enter a value6\n",
      "1\n",
      "2\n",
      "3\n",
      "6\n"
     ]
    }
   ],
   "source": [
    "a=int(input(\"enter a value\"))\n",
    "def fact(a):\n",
    "    for i in range(1,a+1):\n",
    "        if a%i==0:\n",
    "            print(i)\n",
    "fact(a)        "
   ]
  },
  {
   "cell_type": "markdown",
   "metadata": {},
   "source": [
    "## dictonary concept"
   ]
  },
  {
   "cell_type": "code",
   "execution_count": 20,
   "metadata": {},
   "outputs": [
    {
     "name": "stdout",
     "output_type": "stream",
     "text": [
      "e -> 91 top\n",
      "c -> 82 second top\n",
      "d -> 72 third top\n"
     ]
    }
   ],
   "source": [
    "d={\"a\":65,\"c\":82,\"f\":36,\"d\":72,\"e\":91}\n",
    "m=max(d.values())\n",
    "k=\"\"\n",
    "for i in d:\n",
    "    if d[i]==m:\n",
    "        print(i,\"->\",m,\"top\")\n",
    "        k=i\n",
    "d.pop(k)\n",
    "m=max(d.values())\n",
    "k=\"\"\n",
    "for i in d:\n",
    "    if d[i]==m:\n",
    "        print(i,\"->\",m,\"second top\")\n",
    "        k=i\n",
    "d.pop(k)\n",
    "m=max(d.values())\n",
    "k=\"\"\n",
    "for i in d:\n",
    "    if d[i]==m:\n",
    "        print(i,\"->\",m,\"third top\")\n",
    "        k=i        \n",
    "    \n",
    "    "
   ]
  },
  {
   "cell_type": "code",
   "execution_count": null,
   "metadata": {},
   "outputs": [],
   "source": []
  }
 ],
 "metadata": {
  "kernelspec": {
   "display_name": "Python 3",
   "language": "python",
   "name": "python3"
  },
  "language_info": {
   "codemirror_mode": {
    "name": "ipython",
    "version": 3
   },
   "file_extension": ".py",
   "mimetype": "text/x-python",
   "name": "python",
   "nbconvert_exporter": "python",
   "pygments_lexer": "ipython3",
   "version": "3.7.3"
  }
 },
 "nbformat": 4,
 "nbformat_minor": 2
}
