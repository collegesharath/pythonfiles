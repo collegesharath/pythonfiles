{
 "cells": [
  {
   "cell_type": "code",
   "execution_count": null,
   "metadata": {},
   "outputs": [],
   "source": [
    "## "
   ]
  },
  {
   "cell_type": "code",
   "execution_count": 9,
   "metadata": {},
   "outputs": [
    {
     "name": "stdout",
     "output_type": "stream",
     "text": [
      "1\n",
      "enter a value13\n",
      "2\n",
      "5\n",
      "7 111111\n"
     ]
    }
   ],
   "source": [
    "t=int(input(\"\"))\n",
    "c=0\n",
    "d={'0':6,'1':2,'2':5,'3':5,'4':4,'5':5,'6':6,'7':3,'8':7,'9':6}\n",
    "for i in range(t):\n",
    "    a=input(\"enter a value\")\n",
    "    for b in a:\n",
    "        print(d[b])\n",
    "        c=c+d[b]\n",
    "    if c%2==0:\n",
    "        print(\"1\"*c)\n",
    "    else:\n",
    "        print(\"7\",(\"1\"*(c-1)))"
   ]
  },
  {
   "cell_type": "code",
   "execution_count": null,
   "metadata": {},
   "outputs": [],
   "source": []
  },
  {
   "cell_type": "code",
   "execution_count": null,
   "metadata": {},
   "outputs": [],
   "source": []
  }
 ],
 "metadata": {
  "kernelspec": {
   "display_name": "Python 3",
   "language": "python",
   "name": "python3"
  },
  "language_info": {
   "codemirror_mode": {
    "name": "ipython",
    "version": 3
   },
   "file_extension": ".py",
   "mimetype": "text/x-python",
   "name": "python",
   "nbconvert_exporter": "python",
   "pygments_lexer": "ipython3",
   "version": "3.7.3"
  }
 },
 "nbformat": 4,
 "nbformat_minor": 2
}
